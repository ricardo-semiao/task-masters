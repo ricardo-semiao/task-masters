{
 "cells": [
  {
   "cell_type": "markdown",
   "metadata": {},
   "source": [
    "---\n",
    "author: \"Ricardo Semião e Castro\"\n",
    "format:\n",
    "  pdf:\n",
    "    toc: true\n",
    "    toc-depth: 3\n",
    "    number-sections: false\n",
    "    include-in-header:\n",
    "      text: |\n",
    "        \\usepackage{sectsty}\n",
    "        \\usepackage{etoolbox}\n",
    "        \\patchcmd{\\tableofcontents}{\\thispagestyle{plain}}{\\thispagestyle{plain}\\clearpage}{}{}\n",
    "        \\subsectionfont{\\clearpage}\n",
    "---"
   ]
  },
  {
   "cell_type": "markdown",
   "metadata": {},
   "source": [
    "# Problem Set 1"
   ]
  },
  {
   "cell_type": "markdown",
   "metadata": {},
   "source": [
    "## Setup"
   ]
  },
  {
   "cell_type": "markdown",
   "metadata": {},
   "source": [
    "The files from this problem set can be found in [github.com/ricardo-semiao/task-quant-macro](https://github.com/ricardo-semiao/task-quant-macro)."
   ]
  },
  {
   "cell_type": "markdown",
   "metadata": {},
   "source": [
    "Importing required libraries:"
   ]
  },
  {
   "cell_type": "code",
   "execution_count": 1,
   "metadata": {},
   "outputs": [],
   "source": [
    "import numpy as np\n",
    "import polars as pl\n",
    "import seaborn as sns\n",
    "import itertools\n",
    "import time\n",
    "from scipy.interpolate import CubicSpline"
   ]
  },
  {
   "cell_type": "markdown",
   "metadata": {},
   "source": [
    "Function to update the objective variable in solver function, if it strays away from the specified bounds:"
   ]
  },
  {
   "cell_type": "code",
   "execution_count": 2,
   "metadata": {},
   "outputs": [],
   "source": [
    "def update_invalid_x(x, lims, quiet):\n",
    "    if np.isnan(x):\n",
    "        x = lims[0]\n",
    "        if not quiet: print(\"`x` reached NaN status, redefining to `lims[0]`.\")\n",
    "    elif x < lims[0]:\n",
    "        x = lims[0]\n",
    "        if not quiet: print(\"`x` surpassed the lower limit, redefining to `lims[0]`.\")\n",
    "    elif x > lims[1]:\n",
    "        x = lims[1]\n",
    "        if not quiet: print(\"`x` surpassed the upper limit, redefining to `lims[1]`.\")\n",
    "    return x"
   ]
  },
  {
   "cell_type": "markdown",
   "metadata": {},
   "source": [
    "Function to check robustness of the solutions:"
   ]
  },
  {
   "cell_type": "code",
   "execution_count": 3,
   "metadata": {},
   "outputs": [],
   "source": [
    "def check_robustness(fun, options, *args, round = 2, **kwargs):\n",
    "    combinations_df = pl.DataFrame(\n",
    "        itertools.product(*options.values()),\n",
    "        schema=options.keys()\n",
    "    )\n",
    "\n",
    "    result = map(\n",
    "        lambda comb: fun(*args, **{**kwargs, **comb}),\n",
    "        combinations_df.to_dicts()\n",
    "    )\n",
    "\n",
    "    return pl.concat([\n",
    "            combinations_df.select(pl.all().round(round)),\n",
    "            pl.DataFrame(result)\n",
    "        ],\n",
    "        how=\"horizontal\"\n",
    "    )"
   ]
  },
  {
   "cell_type": "markdown",
   "metadata": {},
   "source": [
    "## 1. Bisection Method - Solow Model"
   ]
  },
  {
   "cell_type": "markdown",
   "metadata": {},
   "source": [
    "We have the Solow model:\n",
    "\n",
    "$$\n",
    "sf(k) = (n + g + \\delta)k\n",
    "$$,\n",
    "\n",
    "Where $f(k) = k^\\alpha$. Also, $s = 0.3$, $α = 0.3$, $n = 0.01$, $g = 0.02$ and $δ = 0.05$.\n",
    "\n",
    "I set these parameters below."
   ]
  },
  {
   "cell_type": "code",
   "execution_count": 4,
   "metadata": {},
   "outputs": [],
   "source": [
    "q1_params = {\n",
    "    \"s\": 0.3,\n",
    "    \"alpha\": 0.3,\n",
    "    \"n\": 0.01,\n",
    "    \"g\": 0.02,\n",
    "    \"delta\": 0.05\n",
    "}"
   ]
  },
  {
   "cell_type": "markdown",
   "metadata": {},
   "source": [
    "### a) Analytical Solution\n",
    "In the steady state, the level of capital is $k_{ss}$, thus:\n",
    "\n",
    "$$\n",
    "s k_{ss}^{\\alpha} = (n+g+\\delta)k_{ss}\n",
    "$$\n",
    "\n",
    "$$\n",
    "k_{ss}^{\\alpha-1} = \\frac{n+g+\\delta}{s}\n",
    "$$\n",
    "\n",
    "$$\n",
    "k_{ss} = \\left(\\frac{s}{n+g+\\delta}  \\right)^{\\frac{1}{1-\\alpha}}\n",
    "$$\n",
    "\n",
    "Using the given parameters, we can calculate this value below."
   ]
  },
  {
   "cell_type": "code",
   "execution_count": 5,
   "metadata": {
    "vscode": {
     "languageId": "ruby"
    }
   },
   "outputs": [
    {
     "data": {
      "text/plain": [
       "6.607614053371311"
      ]
     },
     "execution_count": 5,
     "metadata": {},
     "output_type": "execute_result"
    }
   ],
   "source": [
    "def get_kss_analytical(s, n, g, delta, alpha):\n",
    "    return (s / (n + g + delta))**(1 / (1 - alpha))\n",
    "    \n",
    "kss_analytical = get_kss_analytical(**q1_params)\n",
    "kss_analytical"
   ]
  },
  {
   "cell_type": "markdown",
   "metadata": {},
   "source": [
    "### b) Bisection Method\n",
    "\n",
    "First, we create a function for the bisection method:"
   ]
  },
  {
   "cell_type": "code",
   "execution_count": 6,
   "metadata": {},
   "outputs": [],
   "source": [
    "def solve_bisection(\n",
    "        fun, guess,\n",
    "        tol = 1e-6, max_iter = 1000, quiet = True,\n",
    "        **kwargs\n",
    "    ):\n",
    "    a, b = guess\n",
    "\n",
    "    if fun(a, **kwargs) * fun(b, **kwargs) >= 0:\n",
    "        raise ValueError(\"`fun(a) * fun(b) >= 0`, cannot guarantee convergence for the given interval.\")\n",
    "\n",
    "    for iter in range(1, max_iter + 1):\n",
    "        x = (a + b) / 2\n",
    "        residual = fun(x, **kwargs)\n",
    "\n",
    "        if abs(residual) < tol:\n",
    "            return {\"value\": x, \"iterations\": iter}\n",
    "\n",
    "        if fun(a, **kwargs) * residual < 0:\n",
    "            b = x\n",
    "        else:\n",
    "            a = x\n",
    "\n",
    "    if not quiet: print(f\"Bisection method did not converge after {max_iter} iterations.\")\n",
    "    return {\"value\": x, \"iterations\": None} "
   ]
  },
  {
   "cell_type": "markdown",
   "metadata": {},
   "source": [
    "Now, we can define the relevant residual function for the `fun` argument, and the bounds.\n",
    "\n",
    "The lower bound was chosen as an arbitrarily close-to-zero number, as capital cant be negative. The upper bound was chosen as some arbitrarily larger-than-`kss_analytical` number."
   ]
  },
  {
   "cell_type": "code",
   "execution_count": 7,
   "metadata": {},
   "outputs": [
    {
     "data": {
      "text/plain": [
       "{'value': 6.607596417884828, 'iterations': 18}"
      ]
     },
     "execution_count": 7,
     "metadata": {},
     "output_type": "execute_result"
    }
   ],
   "source": [
    "def solow_residual(k, s, alpha, n, g, delta):\n",
    "    return s * k**alpha - (n + g + delta) * k\n",
    "\n",
    "guess = (0.00001, 20)\n",
    "\n",
    "kss_numerical = solve_bisection(solow_residual, guess, **q1_params)\n",
    "kss_numerical"
   ]
  },
  {
   "cell_type": "markdown",
   "metadata": {},
   "source": [
    "### c) Comparing Solutions\n",
    "\n",
    "We can see the relative error between the solutions below. From the code above, we see that it took 18 iterations to converge to the analytical solution."
   ]
  },
  {
   "cell_type": "code",
   "execution_count": 8,
   "metadata": {},
   "outputs": [
    {
     "data": {
      "text/plain": [
       "1.76354864827033e-05"
      ]
     },
     "execution_count": 8,
     "metadata": {},
     "output_type": "execute_result"
    }
   ],
   "source": [
    "kss_analytical - kss_numerical[\"value\"]"
   ]
  },
  {
   "cell_type": "markdown",
   "metadata": {},
   "source": [
    "### d) Robustness Check\n",
    "\n",
    "Lets change the savings rate and see how the bisection method responds. We could also annotated the time it took to run each iteration on line 5, but it is really small, and almost perfectly correlated with the number of iterations."
   ]
  },
  {
   "cell_type": "code",
   "execution_count": 9,
   "metadata": {},
   "outputs": [
    {
     "data": {
      "text/html": [
       "<div><style>\n",
       ".dataframe > thead > tr,\n",
       ".dataframe > tbody > tr {\n",
       "  text-align: right;\n",
       "  white-space: pre-wrap;\n",
       "}\n",
       "</style>\n",
       "<small>shape: (4, 3)</small><table border=\"1\" class=\"dataframe\"><thead><tr><th>s</th><th>diff</th><th>iterations</th></tr><tr><td>f64</td><td>f64</td><td>i64</td></tr></thead><tbody><tr><td>0.1</td><td>5.232177</td><td>16</td></tr><tr><td>0.2</td><td>2.905194</td><td>20</td></tr><tr><td>0.4</td><td>-3.358555</td><td>19</td></tr><tr><td>0.5</td><td>-7.100313</td><td>19</td></tr></tbody></table></div>"
      ],
      "text/plain": [
       "shape: (4, 3)\n",
       "┌─────┬───────────┬────────────┐\n",
       "│ s   ┆ diff      ┆ iterations │\n",
       "│ --- ┆ ---       ┆ ---        │\n",
       "│ f64 ┆ f64       ┆ i64        │\n",
       "╞═════╪═══════════╪════════════╡\n",
       "│ 0.1 ┆ 5.232177  ┆ 16         │\n",
       "│ 0.2 ┆ 2.905194  ┆ 20         │\n",
       "│ 0.4 ┆ -3.358555 ┆ 19         │\n",
       "│ 0.5 ┆ -7.100313 ┆ 19         │\n",
       "└─────┴───────────┴────────────┘"
      ]
     },
     "execution_count": 9,
     "metadata": {},
     "output_type": "execute_result"
    }
   ],
   "source": [
    "s_options = [0.1, 0.2, 0.4, 0.5]\n",
    "\n",
    "def solve_bisection_s(s):\n",
    "    sol = solve_bisection(solow_residual, guess, **{**q1_params, \"s\": s})\n",
    "    kss_analytical = get_kss_analytical(**q1_params)\n",
    "\n",
    "    result = {\n",
    "        \"s\": s,\n",
    "        \"diff\": kss_analytical - sol[\"value\"],\n",
    "        \"iterations\": sol[\"iterations\"]\n",
    "    }\n",
    "\n",
    "    return result\n",
    "\n",
    "pl.DataFrame(map(solve_bisection_s, s_options))"
   ]
  },
  {
   "cell_type": "markdown",
   "metadata": {},
   "source": [
    "As we can see in the table above, the bisection method is robust to changes in the savings rate, as the error and iterations to convergence continues to be very small."
   ]
  },
  {
   "cell_type": "markdown",
   "metadata": {},
   "source": [
    "## 2. Newton’s Method - Control Problem with Non-Linear Wage"
   ]
  },
  {
   "cell_type": "markdown",
   "metadata": {},
   "source": [
    "We have the firms profit:\n",
    "\n",
    "$$\n",
    "\\Pi_t = A_tl^\\alpha_t - l_tw_t(l_t)\n",
    "$$,\n",
    "\n",
    "Where $w_t(l_t) = w_0e^{\\eta^l_t}$. $w0$ is the base wage and $η$ is the elasticity of the wage with respect to labor."
   ]
  },
  {
   "cell_type": "markdown",
   "metadata": {},
   "source": [
    "### a) Analytical Solution\n",
    "\n",
    "The firm's problem is $\\max_{l_t} \\Pi_t$. It's FOC is:\n",
    "\n",
    "$$\n",
    "\\frac{\\partial \\Pi_t}{\\partial l_t} = 0\n",
    "$$\n",
    "\n",
    "$$\n",
    "\\alpha A_{t}l_{t}^{\\alpha-1}- (w_{0}e^{\\eta l_{t}} + l_{t} w_{0}\\eta e^{\\eta l_{t}}) = 0\n",
    "$$\n",
    "\n",
    "But, we can't isolate $l_t$ as it lives inside a non-linear equation. Thus, we will have to solve this problem numerically.\n",
    "\n",
    "The parameters used are as below."
   ]
  },
  {
   "cell_type": "code",
   "execution_count": 10,
   "metadata": {},
   "outputs": [],
   "source": [
    "q2_params = {\n",
    "    \"A\": 1,\n",
    "    \"alpha\": 0.4,\n",
    "    \"w0\": 5,\n",
    "    \"eta\": 0.1\n",
    "}"
   ]
  },
  {
   "cell_type": "markdown",
   "metadata": {},
   "source": [
    "### b) Newton's Method\n",
    "\n",
    "First, lets create a function for the Newton-Raphson's method:"
   ]
  },
  {
   "cell_type": "code",
   "execution_count": 11,
   "metadata": {},
   "outputs": [],
   "source": [
    "def solve_newton(\n",
    "        fun, dfun, guess,\n",
    "        lims = (1e-6, np.inf), tol = 1e-6, max_iter = 1000, quiet = True,\n",
    "        **kwargs\n",
    "    ):\n",
    "    x = guess\n",
    "    for iter in range(1, max_iter + 1):\n",
    "        x_new = x - fun(x, **kwargs) / dfun(x, **kwargs)\n",
    "\n",
    "        if abs(x_new - x) < tol:\n",
    "            return {\"value\": x, \"iterations\": iter}\n",
    "\n",
    "        x = update_invalid_x(x_new, lims, quiet)\n",
    "        \n",
    "    if not quiet: print(f\"Newton's method did not converge after {max_iter} iterations.\")\n",
    "    return {\"value\": x, \"iterations\": None}"
   ]
  },
  {
   "cell_type": "markdown",
   "metadata": {},
   "source": [
    "Now we define the RHS of the FOC as our objective function `fun`, and its derivative as `dfun`.\n",
    "\n",
    "We can see that the result is very robust to initial guess changes. Still, guesses closer to the real value converge faster."
   ]
  },
  {
   "cell_type": "code",
   "execution_count": 12,
   "metadata": {},
   "outputs": [
    {
     "data": {
      "text/html": [
       "<div><style>\n",
       ".dataframe > thead > tr,\n",
       ".dataframe > tbody > tr {\n",
       "  text-align: right;\n",
       "  white-space: pre-wrap;\n",
       "}\n",
       "</style>\n",
       "<small>shape: (7, 2)</small><table border=\"1\" class=\"dataframe\"><thead><tr><th>value</th><th>iterations</th></tr><tr><td>f64</td><td>i64</td></tr></thead><tbody><tr><td>0.01478</td><td>12</td></tr><tr><td>0.01478</td><td>8</td></tr><tr><td>0.01478</td><td>16</td></tr><tr><td>0.01478</td><td>16</td></tr><tr><td>0.01478</td><td>16</td></tr><tr><td>0.01478</td><td>16</td></tr><tr><td>0.01478</td><td>26</td></tr></tbody></table></div>"
      ],
      "text/plain": [
       "shape: (7, 2)\n",
       "┌─────────┬────────────┐\n",
       "│ value   ┆ iterations │\n",
       "│ ---     ┆ ---        │\n",
       "│ f64     ┆ i64        │\n",
       "╞═════════╪════════════╡\n",
       "│ 0.01478 ┆ 12         │\n",
       "│ 0.01478 ┆ 8          │\n",
       "│ 0.01478 ┆ 16         │\n",
       "│ 0.01478 ┆ 16         │\n",
       "│ 0.01478 ┆ 16         │\n",
       "│ 0.01478 ┆ 16         │\n",
       "│ 0.01478 ┆ 26         │\n",
       "└─────────┴────────────┘"
      ]
     },
     "execution_count": 12,
     "metadata": {},
     "output_type": "execute_result"
    }
   ],
   "source": [
    "def pi_foc(l, alpha, A, w0, eta):\n",
    "    return alpha * A * l**(alpha - 1) - \\\n",
    "        (w0 * np.exp(eta * l) + l * w0 * eta * np.exp(eta * l))\n",
    "\n",
    "def dpi_foc(l, alpha, A, w0, eta):\n",
    "    return alpha * (alpha - 1) * A * l**(alpha - 2) - \\\n",
    "        (w0 * eta**2 * l * np.exp(eta * l) + w0 * eta * np.exp(eta * l))\n",
    "\n",
    "pl.DataFrame(map(\n",
    "    lambda guess: solve_newton(pi_foc, dpi_foc, guess=guess, **q2_params),\n",
    "    [0.00001, 0.001, 0.1, 0.5, 1, 5, 100]\n",
    "))"
   ]
  },
  {
   "cell_type": "markdown",
   "metadata": {},
   "source": [
    "### c) Robustness Check\n",
    "\n",
    "We can consider other values of the parameters. Below, I tested the results also considering the halves and doubles of the initial parameters, but one can test any other values. The full table with results is in the appendix."
   ]
  },
  {
   "cell_type": "code",
   "execution_count": 13,
   "metadata": {},
   "outputs": [
    {
     "data": {
      "text/html": [
       "<div><style>\n",
       ".dataframe > thead > tr,\n",
       ".dataframe > tbody > tr {\n",
       "  text-align: right;\n",
       "  white-space: pre-wrap;\n",
       "}\n",
       "</style>\n",
       "<small>shape: (3, 6)</small><table border=\"1\" class=\"dataframe\"><thead><tr><th>A</th><th>alpha</th><th>w0</th><th>eta</th><th>value</th><th>iterations</th></tr><tr><td>f64</td><td>f64</td><td>i64</td><td>f64</td><td>f64</td><td>i64</td></tr></thead><tbody><tr><td>0.5</td><td>0.8</td><td>10</td><td>0.01</td><td>0.000001</td><td>null</td></tr><tr><td>0.5</td><td>0.8</td><td>10</td><td>0.1</td><td>0.000001</td><td>null</td></tr><tr><td>0.5</td><td>0.8</td><td>10</td><td>0.5</td><td>0.000001</td><td>null</td></tr></tbody></table></div>"
      ],
      "text/plain": [
       "shape: (3, 6)\n",
       "┌─────┬───────┬─────┬──────┬──────────┬────────────┐\n",
       "│ A   ┆ alpha ┆ w0  ┆ eta  ┆ value    ┆ iterations │\n",
       "│ --- ┆ ---   ┆ --- ┆ ---  ┆ ---      ┆ ---        │\n",
       "│ f64 ┆ f64   ┆ i64 ┆ f64  ┆ f64      ┆ i64        │\n",
       "╞═════╪═══════╪═════╪══════╪══════════╪════════════╡\n",
       "│ 0.5 ┆ 0.8   ┆ 10  ┆ 0.01 ┆ 0.000001 ┆ null       │\n",
       "│ 0.5 ┆ 0.8   ┆ 10  ┆ 0.1  ┆ 0.000001 ┆ null       │\n",
       "│ 0.5 ┆ 0.8   ┆ 10  ┆ 0.5  ┆ 0.000001 ┆ null       │\n",
       "└─────┴───────┴─────┴──────┴──────────┴────────────┘"
      ]
     },
     "execution_count": 13,
     "metadata": {},
     "output_type": "execute_result"
    }
   ],
   "source": [
    "q2_options = {\n",
    "    \"A\": [0.5, 1, 20],\n",
    "    \"alpha\": [0.1, 0.4, 0.8],\n",
    "    \"w0\": [1, 5, 10],\n",
    "    \"eta\": [0.01, 0.1, 0.5]\n",
    "}\n",
    "\n",
    "q2_robustness = check_robustness(\n",
    "    solve_newton,\n",
    "    q2_options,\n",
    "    pi_foc, dpi_foc, 0.1\n",
    ")\n",
    "\n",
    "q2_robustness.filter(pl.col(\"iterations\").is_null())"
   ]
  },
  {
   "cell_type": "markdown",
   "metadata": {},
   "source": [
    "We can see that for some values of the parameters, the method does not converge. Specifically, the combination of $A = 0.5$, $\\alpha = 0.8$ and $w_0 = 10$ seems problematic."
   ]
  },
  {
   "cell_type": "markdown",
   "metadata": {},
   "source": [
    "### d) Bisection Method\n",
    "\n",
    "We can also use the bisection method to solve this problem. To compare times, I ran each code $1000$ times, to exacerbate differences.\n",
    "\n",
    "The Newton method is quite faster, but it requires the objective function to be differentiable, and for one to find its derivative. At the same time, the bijection method is not dependent on the initial guess."
   ]
  },
  {
   "cell_type": "code",
   "execution_count": 14,
   "metadata": {},
   "outputs": [
    {
     "name": "stdout",
     "output_type": "stream",
     "text": [
      "Newton method: 0.10161 ms\n",
      "Bisection method: 0.18144 ms\n"
     ]
    }
   ],
   "source": [
    "tn1 = time.time()\n",
    "for i in range(1000):\n",
    "    solve_newton(pi_foc, dpi_foc, 0.0001, **q2_params)\n",
    "tn2 = time.time()\n",
    "print(f\"Newton method: {(tn2 - tn1):.5f} ms\")\n",
    "\n",
    "tb1 = time.time()\n",
    "for i in range(1000):\n",
    "    solve_bisection(pi_foc, (0.00001, 5), **q2_params)\n",
    "tb2 = time.time()\n",
    "print(f\"Bisection method: {(tb2 - tb1):.5f} ms\")"
   ]
  },
  {
   "cell_type": "markdown",
   "metadata": {},
   "source": [
    "## 3. Secant Method - Three-Period Consumption-Saving"
   ]
  },
  {
   "cell_type": "markdown",
   "metadata": {},
   "source": [
    "### a) Analytical Solution 1\n",
    "\n",
    "The consumption-saving problem is:\n",
    "\n",
    "$$\n",
    "\\max_{c_1, c_2, c_3} u(c_{1}) + \\beta u(c_{2}) + \\beta^{2} u(c_{3}) \\text{s.t.}\n",
    "$$\n",
    "\n",
    "$$\n",
    "y-c_{1} = s_{1}\n",
    "$$\n",
    "\n",
    "$$\n",
    "(1+r)s_{1} - c_{2} = s_{2}\n",
    "$$\n",
    "\n",
    "$$\n",
    "(1+r)s_{2}  - c_{3} = 0\n",
    "$$,\n",
    "\n",
    "where $u(c) = \\frac{c^{1-\\theta}}{1-\\theta}$."
   ]
  },
  {
   "cell_type": "markdown",
   "metadata": {},
   "source": [
    "### b) Analytical Solution 2\n",
    "\n",
    "To simplify the problem, lets join the budget restriction into:\n",
    "\n",
    "$$\n",
    "(1+r)\\left( (1+r)(y-c_{1}) - c_{2}\\right) = c_{3}\n",
    "$$\n",
    "\n",
    "Now, we can write and solve the Lagrangian:\n",
    "\n",
    "$$\n",
    "L = \\frac{c_{1}^{1-\\theta}}{1-\\theta} + \\beta \\frac{c_{2}^{1-\\theta}}{1-\\theta} + \\beta^{2} \\frac{c_{3}^{1-\\theta}}{1-\\theta} + \\lambda \\left[ (1+r)\\left( (1+r)(y-c_{1}) - c_{2}\\right] -c_{3}\\right)\n",
    "$$\n",
    "\n",
    "$$\n",
    "\\frac{\\partial L}{\\partial c_{1}} = c_{1}^{-\\theta}- \\lambda(1+r)^{2} = 0\n",
    "$$\n",
    "\n",
    "$$\n",
    "\\frac{\\partial L}{\\partial c_{2}} = \\beta c_{2}^{-\\theta}- \\lambda(1+r) = 0\n",
    "$$\n",
    "\n",
    "$$\n",
    "\\frac{\\partial L}{\\partial c_{3}} = \\beta^{2} c_{3}^{-\\theta}- \\lambda = 0\n",
    "$$\n",
    "\n",
    "$$\n",
    "\\frac{\\partial L}{\\partial \\lambda} = (1+r)\\left( (1+r)(y-c_{1}) - c_{2}\\right] -c_{3} = 0\n",
    "$$\n",
    "\n",
    "These are the equations that characterize the problem."
   ]
  },
  {
   "cell_type": "markdown",
   "metadata": {},
   "source": [
    "### c) Analytical Solution 3\n",
    "\n",
    "We can join the 1st and 2nd FOC, and the 2nd and 3rd FOC. These, together with the budget restriction, will give us the optimal consumption:\n",
    "\n",
    "$$\n",
    "c_{2} = (\\beta(1+r))^{\\frac{1}{\\theta}}c_{1}\n",
    "$$\n",
    "\n",
    "$$\n",
    "c_{3} = (\\beta(1+r))^{\\frac{1}{\\theta}}c_{2}\n",
    "$$\n",
    "\n",
    "$$\n",
    "(1+r)\\left( (1+r)(y-c_{1}) - c_{2}\\right] -c_{3} = 0\n",
    "$$\n",
    "\n",
    "Joining these equations:\n",
    "\n",
    "$$\n",
    "(1+r)^{2}(y-c_{1})-(1+r)c_{2} = c_{3}\n",
    "$$\n",
    "\n",
    "Now, we can use that to find the optimal $c_1$, $c_2$, and $c_3$:\n",
    "\n",
    "$$\n",
    "c_{2} = \\frac{y(1+r)^{2}}{(\\beta(1+r))^{\\frac{1}{\\theta}} + (1+r) + \\frac{(1+r)^{2}}{(\\beta(1+r))^{\\frac{1}{\\theta}}}}\n",
    "\\tag{7}\n",
    "$$\n",
    "\n",
    "$$\n",
    "c_{1} =\\frac{ \\frac{y(1+r)^{2}}{(\\beta(1+r))^{\\frac{1}{\\theta}} + (1+r) + \\frac{(1+r)^{2}}{(\\beta(1+r))^{\\frac{1}{\\theta}}}}}{(\\beta(1+r))^{\\frac{1}{\\theta}}}\n",
    "$$\n",
    "\n",
    "$$\n",
    "c_{3}  = (\\beta(1+r))^{\\frac{1}{\\theta}} * \\frac{y(1+r)^{2}}{(\\beta(1+r))^{\\frac{1}{\\theta}} + (1+r) + \\frac{(1+r)^{2}}{(\\beta(1+r))^{\\frac{1}{\\theta}}}}\n",
    "$$\n",
    "\n",
    "And their values are below."
   ]
  },
  {
   "cell_type": "code",
   "execution_count": 15,
   "metadata": {},
   "outputs": [],
   "source": [
    "q3_params = {\n",
    "    \"y\": 100.0,\n",
    "    \"r\": 0.05,\n",
    "    \"beta\": 0.95,\n",
    "    \"theta\": 2.0\n",
    "}"
   ]
  },
  {
   "cell_type": "code",
   "execution_count": 16,
   "metadata": {},
   "outputs": [
    {
     "data": {
      "text/plain": [
       "{'c1': 35.01459854586164, 'c2': 34.97080290827673, 'c3': 34.92706204949698}"
      ]
     },
     "execution_count": 16,
     "metadata": {},
     "output_type": "execute_result"
    }
   ],
   "source": [
    "def get_c_analytical(y, r, beta, theta):\n",
    "    rr = 1 + r\n",
    "    bb = (beta*(1+r))**(1/theta)\n",
    "    common = (y * rr**2) / (bb + rr + rr**2 / bb)\n",
    "    \n",
    "    return {\n",
    "        'c1': common / bb,\n",
    "        'c2': common,\n",
    "        'c3': common * bb\n",
    "    }\n",
    "\n",
    "get_c_analytical(**q3_params)"
   ]
  },
  {
   "cell_type": "markdown",
   "metadata": {},
   "source": [
    "### d) Secant Method\n",
    "\n",
    "First, lets define a function for it."
   ]
  },
  {
   "cell_type": "code",
   "execution_count": 17,
   "metadata": {},
   "outputs": [],
   "source": [
    "def solve_secant(\n",
    "        fun, guess,\n",
    "        lims = (1e-6, np.inf), tol = 1e-6, max_iter = 100, quiet = True,\n",
    "        **kwargs\n",
    "    ):\n",
    "    x0, x = guess\n",
    "\n",
    "    for iter in range(1, max_iter + 1):\n",
    "        x_new = x - (fun(x, **kwargs) * (x - x0)) / \\\n",
    "            (fun(x, **kwargs) - fun(x0, **kwargs))\n",
    "        x0 = x\n",
    "        x = x_new\n",
    "\n",
    "        x = update_invalid_x(x, lims, quiet)\n",
    "\n",
    "        if abs(x - x0) < tol:\n",
    "            return {\"value\": x, \"iterations\": iter}  \n",
    "        \n",
    "    if not quiet: print(f\"Secant's method did not converge after {max_iter} iterations.\")\n",
    "    return {\"value\": x, \"iterations\": None}"
   ]
  },
  {
   "cell_type": "markdown",
   "metadata": {},
   "source": [
    "For the secant method, we want to find the root of the budged constraint.\n",
    "\n",
    "Then, we can use the $\\lambda$ associated with it to find the optimal consumption."
   ]
  },
  {
   "cell_type": "code",
   "execution_count": 18,
   "metadata": {},
   "outputs": [
    {
     "data": {
      "text/plain": [
       "{'value': 0.0007398149614808677,\n",
       " 'iterations': 6,\n",
       " 'c1': 35.01459810947387,\n",
       " 'c2': 34.97080247243479,\n",
       " 'c3': 34.927061614200184}"
      ]
     },
     "execution_count": 18,
     "metadata": {},
     "output_type": "execute_result"
    }
   ],
   "source": [
    "def consumer_constraint(x, r, beta, theta, y):\n",
    "    rr = 1 + r\n",
    "    th_inv_neg = -1 / theta\n",
    "    return rr * (rr * (y - (x * rr ** 2) ** th_inv_neg) - \\\n",
    "        ((x * rr) / beta) ** th_inv_neg) - (x / beta ** 2) ** th_inv_neg\n",
    "\n",
    "def get_c_numerical(x, r, beta, theta, **kwargs):\n",
    "    return {\n",
    "        \"c1\": (x * (1 + r)**2)**(-1 / theta),\n",
    "        \"c2\": (x * (1 + r) / beta)**(-1 / theta),\n",
    "        \"c3\": (x / beta**2)**(-1 / theta)\n",
    "    }\n",
    "\n",
    "q3_res = solve_secant(consumer_constraint, (0.000001, 0.001), **q3_params)\n",
    "q3_res.update(get_c_numerical(q3_res[\"value\"], **q3_params))\n",
    "q3_res"
   ]
  },
  {
   "cell_type": "markdown",
   "metadata": {},
   "source": [
    "### e) Robustness Check\n",
    "\n",
    "We can consider other values of the parameters. Below, I tested the results also considering the halves and doubles of the initial parameters, but one can test any other values. The full table with results is in the appendix."
   ]
  },
  {
   "cell_type": "code",
   "execution_count": 19,
   "metadata": {},
   "outputs": [
    {
     "data": {
      "text/html": [
       "<div><style>\n",
       ".dataframe > thead > tr,\n",
       ".dataframe > tbody > tr {\n",
       "  text-align: right;\n",
       "  white-space: pre-wrap;\n",
       "}\n",
       "</style>\n",
       "<small>shape: (0, 6)</small><table border=\"1\" class=\"dataframe\"><thead><tr><th>y</th><th>r</th><th>beta</th><th>theta</th><th>value</th><th>iterations</th></tr><tr><td>i64</td><td>f64</td><td>f64</td><td>f64</td><td>f64</td><td>i64</td></tr></thead><tbody></tbody></table></div>"
      ],
      "text/plain": [
       "shape: (0, 6)\n",
       "┌─────┬─────┬──────┬───────┬───────┬────────────┐\n",
       "│ y   ┆ r   ┆ beta ┆ theta ┆ value ┆ iterations │\n",
       "│ --- ┆ --- ┆ ---  ┆ ---   ┆ ---   ┆ ---        │\n",
       "│ i64 ┆ f64 ┆ f64  ┆ f64   ┆ f64   ┆ i64        │\n",
       "╞═════╪═════╪══════╪═══════╪═══════╪════════════╡\n",
       "└─────┴─────┴──────┴───────┴───────┴────────────┘"
      ]
     },
     "execution_count": 19,
     "metadata": {},
     "output_type": "execute_result"
    }
   ],
   "source": [
    "q3_options = {\n",
    "    \"y\": [50, 100, 200],\n",
    "    \"r\": [0.01, 0.05, 0.2],\n",
    "    \"beta\": [0.7, 0.95, 0.99],\n",
    "    \"theta\": [1, 2.0, 4]\n",
    "}\n",
    "\n",
    "q3_robustness = check_robustness(\n",
    "    solve_secant,\n",
    "    q3_options,\n",
    "    consumer_constraint, (0.000001, 0.001)\n",
    ")\n",
    "\n",
    "q3_robustness.filter(pl.col(\"iterations\").is_null())"
   ]
  },
  {
   "cell_type": "markdown",
   "metadata": {},
   "source": [
    "We can see that overall, the program is very robust, as it always converges."
   ]
  },
  {
   "cell_type": "markdown",
   "metadata": {},
   "source": [
    "### f) Calibration\n",
    "\n",
    "Now, our goal is to find an interest rate value $r$ such that $c1 = c3$."
   ]
  },
  {
   "cell_type": "code",
   "execution_count": 20,
   "metadata": {},
   "outputs": [
    {
     "data": {
      "text/html": [
       "<div><style>\n",
       ".dataframe > thead > tr,\n",
       ".dataframe > tbody > tr {\n",
       "  text-align: right;\n",
       "  white-space: pre-wrap;\n",
       "}\n",
       "</style>\n",
       "<small>shape: (160_000, 10)</small><table border=\"1\" class=\"dataframe\"><thead><tr><th>y</th><th>r</th><th>beta</th><th>theta</th><th>value</th><th>iterations</th><th>c1</th><th>c2</th><th>c3</th><th>cdiff</th></tr><tr><td>f64</td><td>f64</td><td>f64</td><td>f64</td><td>f64</td><td>i64</td><td>f64</td><td>f64</td><td>f64</td><td>f64</td></tr></thead><tbody><tr><td>10.0</td><td>0.0001</td><td>0.99</td><td>1.2632</td><td>0.216307</td><td>17</td><td>2.047744</td><td>2.045183</td><td>2.042625</td><td>0.005119</td></tr><tr><td>10.0</td><td>0.0001</td><td>0.9405</td><td>1.2632</td><td>0.205696</td><td>17</td><td>2.099897</td><td>2.09727</td><td>2.094647</td><td>0.00525</td></tr><tr><td>10.0</td><td>0.0001</td><td>0.8911</td><td>1.2632</td><td>0.195367</td><td>17</td><td>2.154691</td><td>2.151996</td><td>2.149305</td><td>0.005387</td></tr><tr><td>10.0</td><td>0.0522</td><td>0.99</td><td>1.2632</td><td>0.192845</td><td>17</td><td>2.168737</td><td>2.166024</td><td>2.163315</td><td>0.005422</td></tr><tr><td>10.0</td><td>0.0001</td><td>0.8416</td><td>1.2632</td><td>0.18532</td><td>17</td><td>2.212326</td><td>2.209559</td><td>2.206795</td><td>0.005531</td></tr><tr><td>&hellip;</td><td>&hellip;</td><td>&hellip;</td><td>&hellip;</td><td>&hellip;</td><td>&hellip;</td><td>&hellip;</td><td>&hellip;</td><td>&hellip;</td><td>&hellip;</td></tr><tr><td>300.0</td><td>0.99</td><td>0.99</td><td>11.9474</td><td>0.000001</td><td>2</td><td>952.380952</td><td>951.189731</td><td>950.0</td><td>2.380952</td></tr><tr><td>300.0</td><td>0.99</td><td>0.99</td><td>12.7105</td><td>0.000001</td><td>2</td><td>952.380952</td><td>951.189731</td><td>950.0</td><td>2.380952</td></tr><tr><td>300.0</td><td>0.99</td><td>0.99</td><td>13.4737</td><td>0.000001</td><td>2</td><td>952.380952</td><td>951.189731</td><td>950.0</td><td>2.380952</td></tr><tr><td>300.0</td><td>0.99</td><td>0.99</td><td>14.2368</td><td>0.000001</td><td>2</td><td>952.380952</td><td>951.189731</td><td>950.0</td><td>2.380952</td></tr><tr><td>300.0</td><td>0.99</td><td>0.99</td><td>15.0</td><td>0.000001</td><td>2</td><td>952.380952</td><td>951.189731</td><td>950.0</td><td>2.380952</td></tr></tbody></table></div>"
      ],
      "text/plain": [
       "shape: (160_000, 10)\n",
       "┌───────┬────────┬────────┬─────────┬───┬────────────┬────────────┬──────────┬──────────┐\n",
       "│ y     ┆ r      ┆ beta   ┆ theta   ┆ … ┆ c1         ┆ c2         ┆ c3       ┆ cdiff    │\n",
       "│ ---   ┆ ---    ┆ ---    ┆ ---     ┆   ┆ ---        ┆ ---        ┆ ---      ┆ ---      │\n",
       "│ f64   ┆ f64    ┆ f64    ┆ f64     ┆   ┆ f64        ┆ f64        ┆ f64      ┆ f64      │\n",
       "╞═══════╪════════╪════════╪═════════╪═══╪════════════╪════════════╪══════════╪══════════╡\n",
       "│ 10.0  ┆ 0.0001 ┆ 0.99   ┆ 1.2632  ┆ … ┆ 2.047744   ┆ 2.045183   ┆ 2.042625 ┆ 0.005119 │\n",
       "│ 10.0  ┆ 0.0001 ┆ 0.9405 ┆ 1.2632  ┆ … ┆ 2.099897   ┆ 2.09727    ┆ 2.094647 ┆ 0.00525  │\n",
       "│ 10.0  ┆ 0.0001 ┆ 0.8911 ┆ 1.2632  ┆ … ┆ 2.154691   ┆ 2.151996   ┆ 2.149305 ┆ 0.005387 │\n",
       "│ 10.0  ┆ 0.0522 ┆ 0.99   ┆ 1.2632  ┆ … ┆ 2.168737   ┆ 2.166024   ┆ 2.163315 ┆ 0.005422 │\n",
       "│ 10.0  ┆ 0.0001 ┆ 0.8416 ┆ 1.2632  ┆ … ┆ 2.212326   ┆ 2.209559   ┆ 2.206795 ┆ 0.005531 │\n",
       "│ …     ┆ …      ┆ …      ┆ …       ┆ … ┆ …          ┆ …          ┆ …        ┆ …        │\n",
       "│ 300.0 ┆ 0.99   ┆ 0.99   ┆ 11.9474 ┆ … ┆ 952.380952 ┆ 951.189731 ┆ 950.0    ┆ 2.380952 │\n",
       "│ 300.0 ┆ 0.99   ┆ 0.99   ┆ 12.7105 ┆ … ┆ 952.380952 ┆ 951.189731 ┆ 950.0    ┆ 2.380952 │\n",
       "│ 300.0 ┆ 0.99   ┆ 0.99   ┆ 13.4737 ┆ … ┆ 952.380952 ┆ 951.189731 ┆ 950.0    ┆ 2.380952 │\n",
       "│ 300.0 ┆ 0.99   ┆ 0.99   ┆ 14.2368 ┆ … ┆ 952.380952 ┆ 951.189731 ┆ 950.0    ┆ 2.380952 │\n",
       "│ 300.0 ┆ 0.99   ┆ 0.99   ┆ 15.0    ┆ … ┆ 952.380952 ┆ 951.189731 ┆ 950.0    ┆ 2.380952 │\n",
       "└───────┴────────┴────────┴─────────┴───┴────────────┴────────────┴──────────┴──────────┘"
      ]
     },
     "execution_count": 20,
     "metadata": {},
     "output_type": "execute_result"
    }
   ],
   "source": [
    "q3_options2 = {\n",
    "    \"y\": np.linspace(10, 300, 20),\n",
    "    \"r\": np.linspace(0.0001, 0.99, 20),\n",
    "    \"beta\": np.linspace(0.05, 0.99, 20),\n",
    "    \"theta\": np.linspace(0.5, 15, 20)\n",
    "}\n",
    "\n",
    "q3_robustness2 = check_robustness(\n",
    "    solve_secant,\n",
    "    q3_options2,\n",
    "    consumer_constraint, (0.000001, 0.001),\n",
    "    round = 4\n",
    ")\n",
    "    \n",
    "q3_res2 = pl.from_dict({\n",
    "    k: v.reshape(-1) for k, v in #because get_c_numerical yields an overly nested array\n",
    "    get_c_numerical(q3_robustness2.select(\"value\").to_numpy(), **q3_params).items()\n",
    "})\n",
    "\n",
    "q3_calibration = q3_robustness2.hstack(q3_res2)\n",
    "q3_calibration.with_columns(\n",
    "    cdiff = (pl.col(\"c1\") - pl.col(\"c3\")).abs()\n",
    ").sort(\"cdiff\")"
   ]
  },
  {
   "cell_type": "markdown",
   "metadata": {},
   "source": [
    "So, from the considered parameters, the combination that yielded the closest values for $c1$ and $c3$ was with $r = 0.0025$, which presented a difference of $0.005119$.\n",
    "\n",
    "One could also had fixed the rest of the parameters and only varied $r$, by passing `{\"r\": 0.05}` instead of `q3_params` to `check_robustness()`.\n",
    "\n",
    "This was a very empirical approach. In a better way, one could have used the analytical relationship between $c_1$ and $c_3$ to narrow down the search space:\n",
    "\n",
    "$$\n",
    "c_{3} = (\\beta(1+r))^{\\frac{1}{\\theta}}c_{2}\n",
    "$$\n",
    "\n",
    "$$\n",
    "c_{2} = (\\beta(1+r))^{\\frac{1}{\\theta}}c_{1}\n",
    "$$\n",
    "\n",
    "$$\n",
    "c_{1} = c_{3} ~\\Leftrightarrow~ \\frac{1}{\\beta} - 1 = r\n",
    "$$"
   ]
  },
  {
   "cell_type": "markdown",
   "metadata": {},
   "source": [
    "## 4. Interpolation - Consumption Function"
   ]
  },
  {
   "cell_type": "markdown",
   "metadata": {},
   "source": [
    "Now, we have a consumption function with a break."
   ]
  },
  {
   "cell_type": "code",
   "execution_count": 21,
   "metadata": {},
   "outputs": [],
   "source": [
    "def quadratic_consumption(x):\n",
    "    if 0 <= x <= 5:\n",
    "        return 0.8 * x\n",
    "    elif 5 < x <= 10:\n",
    "        return 4 + 0.2 * (x - 5) ** 2"
   ]
  },
  {
   "cell_type": "markdown",
   "metadata": {},
   "source": [
    "### a) Spline - n = 5\n",
    "\n",
    "In this question we were weak, and didn't defined our own spline function. Instead, we used the `scipy` one."
   ]
  },
  {
   "cell_type": "code",
   "execution_count": 22,
   "metadata": {},
   "outputs": [],
   "source": [
    "def create_spline(n):\n",
    "    x_nodes = np.linspace(0, 10, n)\n",
    "    y_nodes = [quadratic_consumption(x) for x in x_nodes]\n",
    "\n",
    "    spline = CubicSpline(x_nodes, y_nodes)\n",
    "    search_grid = np.arange(0, 10.000, 0.001)\n",
    "\n",
    "    return pl.DataFrame({\n",
    "        'search_grid': search_grid,\n",
    "        f'spline{n}_res': spline(search_grid),\n",
    "        'true_res': [quadratic_consumption(x) for x in search_grid]\n",
    "    })\n",
    "\n",
    "def get_spline_rmse(df, n):\n",
    "    return df.with_columns(\n",
    "        quad = (pl.col(f'spline{n}_res') - pl.col('true_res')).mean()\n",
    "    ).item(0, \"quad\")\n",
    "\n",
    "def get_spline_plot(df, n):\n",
    "    spline_res1_melted = df.unpivot(\n",
    "        index = 'search_grid',\n",
    "        on = [f'spline{n}_res', 'true_res'], \n",
    "        variable_name = 'Result Type',\n",
    "        value_name = 'Value'\n",
    "    )\n",
    "\n",
    "    g = sns.lineplot(\n",
    "        data = spline_res1_melted,\n",
    "        x = 'search_grid', y = 'Value', hue = 'Result Type'\n",
    "    )\n",
    "    g.set(\n",
    "        xlabel = 'Search Grid', ylabel = 'Result',\n",
    "        title = 'Spline Results vs True Results'\n",
    "    )\n",
    "    return None"
   ]
  },
  {
   "cell_type": "code",
   "execution_count": 23,
   "metadata": {},
   "outputs": [
    {
     "name": "stdout",
     "output_type": "stream",
     "text": [
      "RMSE: -7.075139085710447e-17\n"
     ]
    },
    {
     "data": {
      "image/png": "[encoded data removed]",
      "text/plain": [
       "<Figure size 640x480 with 1 Axes>"
      ]
     },
     "metadata": {},
     "output_type": "display_data"
    }
   ],
   "source": [
    "n = 5\n",
    "spline_res1 = create_spline(n)\n",
    "\n",
    "print(f\"RMSE: {get_spline_rmse(spline_res1, n)}\")\n",
    "get_spline_plot(spline_res1, n)"
   ]
  },
  {
   "cell_type": "markdown",
   "metadata": {},
   "source": [
    "### b) Spline - n = 10\n",
    "\n",
    "We can follow the same procedure"
   ]
  },
  {
   "cell_type": "code",
   "execution_count": 24,
   "metadata": {},
   "outputs": [
    {
     "name": "stdout",
     "output_type": "stream",
     "text": [
      "RMSE: -0.004347076553643021\n"
     ]
    },
    {
     "data": {
      "image/png": "[encoded data removed]",
      "text/plain": [
       "<Figure size 640x480 with 1 Axes>"
      ]
     },
     "metadata": {},
     "output_type": "display_data"
    }
   ],
   "source": [
    "n = 10\n",
    "spline_res1 = create_spline(n)\n",
    "\n",
    "print(f\"RMSE: {get_spline_rmse(spline_res1, n)}\")\n",
    "get_spline_plot(spline_res1, n)"
   ]
  },
  {
   "cell_type": "markdown",
   "metadata": {},
   "source": [
    "We can see that the RMSE indeed decreased, as we have more points to do a more precise spline interpolation. Specially, we identify better the break in the consumption function, as there are points closer to it, in comparison to before."
   ]
  },
  {
   "cell_type": "markdown",
   "metadata": {},
   "source": [
    "### c) Robustness Check\n",
    "\n",
    "We can run the spline results across different values of $n$."
   ]
  },
  {
   "cell_type": "code",
   "execution_count": 25,
   "metadata": {},
   "outputs": [
    {
     "data": {
      "text/plain": [
       "[Text(0.5, 0, 'Nodes'), Text(0, 0.5, 'RMSE'), Text(0.5, 1.0, 'RMSE vs Nodes')]"
      ]
     },
     "execution_count": 25,
     "metadata": {},
     "output_type": "execute_result"
    },
    {
     "data": {
      "image/png": "[encoded data removed]",
      "text/plain": [
       "<Figure size 640x480 with 1 Axes>"
      ]
     },
     "metadata": {},
     "output_type": "display_data"
    }
   ],
   "source": [
    "q4_options = np.arange(6, 50, 2)\n",
    "\n",
    "rmse_data = pl.DataFrame({\n",
    "    'rmse': [get_spline_rmse(create_spline(n), n) for n in q4_options],\n",
    "    'n': q4_options\n",
    "})\n",
    "\n",
    "g = sns.lineplot(data=rmse_data, x='n', y='rmse')\n",
    "g.set(xlabel='Nodes', ylabel='RMSE', title='RMSE vs Nodes')\n"
   ]
  },
  {
   "cell_type": "markdown",
   "metadata": {},
   "source": [
    "We can see that the RMSE quickly decreases as we increase the number of points. This is expected, as the spline function is able to better approximate the consumption function."
   ]
  },
  {
   "cell_type": "markdown",
   "metadata": {},
   "source": [
    "### c) Optimal Nodes\n",
    "\n",
    "From the graph of the last answer, we can see that 7 nodes yields a great RMSE, without imposing too much computational cost."
   ]
  }
 ],
 "metadata": {
  "kernelspec": {
   "display_name": "Python 3",
   "language": "python",
   "name": "python3"
  },
  "language_info": {
   "codemirror_mode": {
    "name": "ipython",
    "version": 3
   },
   "file_extension": ".py",
   "mimetype": "text/x-python",
   "name": "python",
   "nbconvert_exporter": "python",
   "pygments_lexer": "ipython3",
   "version": "3.12.0"
  }
 },
 "nbformat": 4,
 "nbformat_minor": 2
}
